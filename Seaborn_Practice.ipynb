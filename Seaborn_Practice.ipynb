{
  "nbformat": 4,
  "nbformat_minor": 0,
  "metadata": {
    "colab": {
      "provenance": [],
      "authorship_tag": "ABX9TyP7dzCokFxUWBGNYDvia34K",
      "include_colab_link": true
    },
    "kernelspec": {
      "name": "python3",
      "display_name": "Python 3"
    },
    "language_info": {
      "name": "python"
    }
  },
  "cells": [
    {
      "cell_type": "markdown",
      "metadata": {
        "id": "view-in-github",
        "colab_type": "text"
      },
      "source": [
        "<a href=\"https://colab.research.google.com/github/khadeja258/Data-Analytics/blob/main/Seaborn_Practice.ipynb\" target=\"_parent\"><img src=\"https://colab.research.google.com/assets/colab-badge.svg\" alt=\"Open In Colab\"/></a>"
      ]
    },
    {
      "cell_type": "code",
      "execution_count": null,
      "metadata": {
        "id": "RbQgxmC2FKKG"
      },
      "outputs": [],
      "source": [
        "import seaborn as sns\n",
        "import pandas as pd\n",
        "import numpy as np\n",
        "import matplotlib.pyplot as plt\n",
        "\n",
        "Scores = pd.DataFrame({'RollNo':[1,2,3,4],'Marks':[23,45,32,28]})\n",
        "print(Scores)\n",
        "\n",
        "sns.lineplot(x='RollNo',y ='Marks',data=Scores)\n",
        "plt.title(\"Student Marks\")\n",
        "#plt.show()\n",
        "\n",
        "Seaborn_d = pd.read_csv('sample2.csv')\n",
        "print(Seaborn_d.head())\n",
        "sns.lineplot(x='Roll No.',y='Computer',data=Seaborn_d,hue ='Physics')\n",
        "plt.title(\"Marks\")\n",
        "#plt.show()\n",
        "\n",
        "sns.displot(Seaborn_d['Physics'])\n",
        "plt.title('Student')\n",
        "plt.show()"
      ]
    }
  ]
}